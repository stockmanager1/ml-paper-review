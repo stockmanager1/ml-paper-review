{
  "nbformat": 4,
  "nbformat_minor": 0,
  "metadata": {
    "colab": {
      "provenance": [],
      "machine_shape": "hm",
      "gpuType": "V100"
    },
    "kernelspec": {
      "name": "python3",
      "display_name": "Python 3"
    },
    "language_info": {
      "name": "python"
    },
    "accelerator": "GPU"
  },
  "cells": [
    {
      "cell_type": "code",
      "source": [
        "from google.colab import drive\n",
        "drive.mount('/content/gdrive/')"
      ],
      "metadata": {
        "colab": {
          "base_uri": "https://localhost:8080/"
        },
        "id": "AjszawrDRp4d",
        "outputId": "360f0b55-fe1f-474a-c05f-c31d1a7a2e20"
      },
      "execution_count": null,
      "outputs": [
        {
          "output_type": "stream",
          "name": "stdout",
          "text": [
            "Mounted at /content/gdrive/\n"
          ]
        }
      ]
    },
    {
      "cell_type": "code",
      "source": [
        "!unzip -qq \"/content/gdrive/MyDrive/u-net.zip\""
      ],
      "metadata": {
        "id": "446-YFxnRwzZ"
      },
      "execution_count": null,
      "outputs": []
    },
    {
      "cell_type": "code",
      "source": [
        "import numpy as np\n",
        "import pandas as pd\n",
        "import tensorflow as tf\n",
        "#input layer를 받는 방법\n",
        "from tensorflow.keras.layers import Input"
      ],
      "metadata": {
        "id": "5BvUPed-pETd"
      },
      "execution_count": null,
      "outputs": []
    },
    {
      "cell_type": "code",
      "source": [
        "from tensorflow.keras.layers import Conv2D\n",
        "from tensorflow.keras.layers import MaxPooling2D\n",
        "from tensorflow.keras.layers import Dropout\n",
        "from tensorflow.keras.layers import Conv2DTranspose\n",
        "from tensorflow.keras.layers import concatenate"
      ],
      "metadata": {
        "id": "qFRarKWXpYtc"
      },
      "execution_count": null,
      "outputs": []
    },
    {
      "cell_type": "markdown",
      "source": [
        "#1. 라벨(MASK)를 받는다."
      ],
      "metadata": {
        "id": "F3Q7OoLMpfXR"
      }
    },
    {
      "cell_type": "code",
      "source": [
        "labels = pd.read_csv('/content/class_dict_seg.csv')\n",
        "labels"
      ],
      "metadata": {
        "colab": {
          "base_uri": "https://localhost:8080/",
          "height": 802
        },
        "id": "xY6iI3INpcKT",
        "outputId": "4958ef9c-c6ad-492d-8bdf-6bc4c182275c"
      },
      "execution_count": null,
      "outputs": [
        {
          "output_type": "execute_result",
          "data": {
            "text/plain": [
              "           name    r    g    b\n",
              "0     unlabeled    0    0    0\n",
              "1    paved-area  128   64  128\n",
              "2          dirt  130   76    0\n",
              "3         grass    0  102    0\n",
              "4        gravel  112  103   87\n",
              "5         water   28   42  168\n",
              "6         rocks   48   41   30\n",
              "7          pool    0   50   89\n",
              "8    vegetation  107  142   35\n",
              "9          roof   70   70   70\n",
              "10         wall  102  102  156\n",
              "11       window  254  228   12\n",
              "12         door  254  148   12\n",
              "13        fence  190  153  153\n",
              "14   fence-pole  153  153  153\n",
              "15       person  255   22   96\n",
              "16          dog  102   51    0\n",
              "17          car    9  143  150\n",
              "18      bicycle  119   11   32\n",
              "19         tree   51   51    0\n",
              "20    bald-tree  190  250  190\n",
              "21    ar-marker  112  150  146\n",
              "22     obstacle    2  135  115\n",
              "23  conflicting  255    0    0"
            ],
            "text/html": [
              "\n",
              "\n",
              "  <div id=\"df-79aec261-30f2-437e-975e-64e31cecbb5f\">\n",
              "    <div class=\"colab-df-container\">\n",
              "      <div>\n",
              "<style scoped>\n",
              "    .dataframe tbody tr th:only-of-type {\n",
              "        vertical-align: middle;\n",
              "    }\n",
              "\n",
              "    .dataframe tbody tr th {\n",
              "        vertical-align: top;\n",
              "    }\n",
              "\n",
              "    .dataframe thead th {\n",
              "        text-align: right;\n",
              "    }\n",
              "</style>\n",
              "<table border=\"1\" class=\"dataframe\">\n",
              "  <thead>\n",
              "    <tr style=\"text-align: right;\">\n",
              "      <th></th>\n",
              "      <th>name</th>\n",
              "      <th>r</th>\n",
              "      <th>g</th>\n",
              "      <th>b</th>\n",
              "    </tr>\n",
              "  </thead>\n",
              "  <tbody>\n",
              "    <tr>\n",
              "      <th>0</th>\n",
              "      <td>unlabeled</td>\n",
              "      <td>0</td>\n",
              "      <td>0</td>\n",
              "      <td>0</td>\n",
              "    </tr>\n",
              "    <tr>\n",
              "      <th>1</th>\n",
              "      <td>paved-area</td>\n",
              "      <td>128</td>\n",
              "      <td>64</td>\n",
              "      <td>128</td>\n",
              "    </tr>\n",
              "    <tr>\n",
              "      <th>2</th>\n",
              "      <td>dirt</td>\n",
              "      <td>130</td>\n",
              "      <td>76</td>\n",
              "      <td>0</td>\n",
              "    </tr>\n",
              "    <tr>\n",
              "      <th>3</th>\n",
              "      <td>grass</td>\n",
              "      <td>0</td>\n",
              "      <td>102</td>\n",
              "      <td>0</td>\n",
              "    </tr>\n",
              "    <tr>\n",
              "      <th>4</th>\n",
              "      <td>gravel</td>\n",
              "      <td>112</td>\n",
              "      <td>103</td>\n",
              "      <td>87</td>\n",
              "    </tr>\n",
              "    <tr>\n",
              "      <th>5</th>\n",
              "      <td>water</td>\n",
              "      <td>28</td>\n",
              "      <td>42</td>\n",
              "      <td>168</td>\n",
              "    </tr>\n",
              "    <tr>\n",
              "      <th>6</th>\n",
              "      <td>rocks</td>\n",
              "      <td>48</td>\n",
              "      <td>41</td>\n",
              "      <td>30</td>\n",
              "    </tr>\n",
              "    <tr>\n",
              "      <th>7</th>\n",
              "      <td>pool</td>\n",
              "      <td>0</td>\n",
              "      <td>50</td>\n",
              "      <td>89</td>\n",
              "    </tr>\n",
              "    <tr>\n",
              "      <th>8</th>\n",
              "      <td>vegetation</td>\n",
              "      <td>107</td>\n",
              "      <td>142</td>\n",
              "      <td>35</td>\n",
              "    </tr>\n",
              "    <tr>\n",
              "      <th>9</th>\n",
              "      <td>roof</td>\n",
              "      <td>70</td>\n",
              "      <td>70</td>\n",
              "      <td>70</td>\n",
              "    </tr>\n",
              "    <tr>\n",
              "      <th>10</th>\n",
              "      <td>wall</td>\n",
              "      <td>102</td>\n",
              "      <td>102</td>\n",
              "      <td>156</td>\n",
              "    </tr>\n",
              "    <tr>\n",
              "      <th>11</th>\n",
              "      <td>window</td>\n",
              "      <td>254</td>\n",
              "      <td>228</td>\n",
              "      <td>12</td>\n",
              "    </tr>\n",
              "    <tr>\n",
              "      <th>12</th>\n",
              "      <td>door</td>\n",
              "      <td>254</td>\n",
              "      <td>148</td>\n",
              "      <td>12</td>\n",
              "    </tr>\n",
              "    <tr>\n",
              "      <th>13</th>\n",
              "      <td>fence</td>\n",
              "      <td>190</td>\n",
              "      <td>153</td>\n",
              "      <td>153</td>\n",
              "    </tr>\n",
              "    <tr>\n",
              "      <th>14</th>\n",
              "      <td>fence-pole</td>\n",
              "      <td>153</td>\n",
              "      <td>153</td>\n",
              "      <td>153</td>\n",
              "    </tr>\n",
              "    <tr>\n",
              "      <th>15</th>\n",
              "      <td>person</td>\n",
              "      <td>255</td>\n",
              "      <td>22</td>\n",
              "      <td>96</td>\n",
              "    </tr>\n",
              "    <tr>\n",
              "      <th>16</th>\n",
              "      <td>dog</td>\n",
              "      <td>102</td>\n",
              "      <td>51</td>\n",
              "      <td>0</td>\n",
              "    </tr>\n",
              "    <tr>\n",
              "      <th>17</th>\n",
              "      <td>car</td>\n",
              "      <td>9</td>\n",
              "      <td>143</td>\n",
              "      <td>150</td>\n",
              "    </tr>\n",
              "    <tr>\n",
              "      <th>18</th>\n",
              "      <td>bicycle</td>\n",
              "      <td>119</td>\n",
              "      <td>11</td>\n",
              "      <td>32</td>\n",
              "    </tr>\n",
              "    <tr>\n",
              "      <th>19</th>\n",
              "      <td>tree</td>\n",
              "      <td>51</td>\n",
              "      <td>51</td>\n",
              "      <td>0</td>\n",
              "    </tr>\n",
              "    <tr>\n",
              "      <th>20</th>\n",
              "      <td>bald-tree</td>\n",
              "      <td>190</td>\n",
              "      <td>250</td>\n",
              "      <td>190</td>\n",
              "    </tr>\n",
              "    <tr>\n",
              "      <th>21</th>\n",
              "      <td>ar-marker</td>\n",
              "      <td>112</td>\n",
              "      <td>150</td>\n",
              "      <td>146</td>\n",
              "    </tr>\n",
              "    <tr>\n",
              "      <th>22</th>\n",
              "      <td>obstacle</td>\n",
              "      <td>2</td>\n",
              "      <td>135</td>\n",
              "      <td>115</td>\n",
              "    </tr>\n",
              "    <tr>\n",
              "      <th>23</th>\n",
              "      <td>conflicting</td>\n",
              "      <td>255</td>\n",
              "      <td>0</td>\n",
              "      <td>0</td>\n",
              "    </tr>\n",
              "  </tbody>\n",
              "</table>\n",
              "</div>\n",
              "      <button class=\"colab-df-convert\" onclick=\"convertToInteractive('df-79aec261-30f2-437e-975e-64e31cecbb5f')\"\n",
              "              title=\"Convert this dataframe to an interactive table.\"\n",
              "              style=\"display:none;\">\n",
              "\n",
              "  <svg xmlns=\"http://www.w3.org/2000/svg\" height=\"24px\"viewBox=\"0 0 24 24\"\n",
              "       width=\"24px\">\n",
              "    <path d=\"M0 0h24v24H0V0z\" fill=\"none\"/>\n",
              "    <path d=\"M18.56 5.44l.94 2.06.94-2.06 2.06-.94-2.06-.94-.94-2.06-.94 2.06-2.06.94zm-11 1L8.5 8.5l.94-2.06 2.06-.94-2.06-.94L8.5 2.5l-.94 2.06-2.06.94zm10 10l.94 2.06.94-2.06 2.06-.94-2.06-.94-.94-2.06-.94 2.06-2.06.94z\"/><path d=\"M17.41 7.96l-1.37-1.37c-.4-.4-.92-.59-1.43-.59-.52 0-1.04.2-1.43.59L10.3 9.45l-7.72 7.72c-.78.78-.78 2.05 0 2.83L4 21.41c.39.39.9.59 1.41.59.51 0 1.02-.2 1.41-.59l7.78-7.78 2.81-2.81c.8-.78.8-2.07 0-2.86zM5.41 20L4 18.59l7.72-7.72 1.47 1.35L5.41 20z\"/>\n",
              "  </svg>\n",
              "      </button>\n",
              "\n",
              "\n",
              "\n",
              "    <div id=\"df-169dbf1d-d0c2-48c3-ba8a-d26cac77c896\">\n",
              "      <button class=\"colab-df-quickchart\" onclick=\"quickchart('df-169dbf1d-d0c2-48c3-ba8a-d26cac77c896')\"\n",
              "              title=\"Suggest charts.\"\n",
              "              style=\"display:none;\">\n",
              "\n",
              "<svg xmlns=\"http://www.w3.org/2000/svg\" height=\"24px\"viewBox=\"0 0 24 24\"\n",
              "     width=\"24px\">\n",
              "    <g>\n",
              "        <path d=\"M19 3H5c-1.1 0-2 .9-2 2v14c0 1.1.9 2 2 2h14c1.1 0 2-.9 2-2V5c0-1.1-.9-2-2-2zM9 17H7v-7h2v7zm4 0h-2V7h2v10zm4 0h-2v-4h2v4z\"/>\n",
              "    </g>\n",
              "</svg>\n",
              "      </button>\n",
              "    </div>\n",
              "\n",
              "<style>\n",
              "  .colab-df-quickchart {\n",
              "    background-color: #E8F0FE;\n",
              "    border: none;\n",
              "    border-radius: 50%;\n",
              "    cursor: pointer;\n",
              "    display: none;\n",
              "    fill: #1967D2;\n",
              "    height: 32px;\n",
              "    padding: 0 0 0 0;\n",
              "    width: 32px;\n",
              "  }\n",
              "\n",
              "  .colab-df-quickchart:hover {\n",
              "    background-color: #E2EBFA;\n",
              "    box-shadow: 0px 1px 2px rgba(60, 64, 67, 0.3), 0px 1px 3px 1px rgba(60, 64, 67, 0.15);\n",
              "    fill: #174EA6;\n",
              "  }\n",
              "\n",
              "  [theme=dark] .colab-df-quickchart {\n",
              "    background-color: #3B4455;\n",
              "    fill: #D2E3FC;\n",
              "  }\n",
              "\n",
              "  [theme=dark] .colab-df-quickchart:hover {\n",
              "    background-color: #434B5C;\n",
              "    box-shadow: 0px 1px 3px 1px rgba(0, 0, 0, 0.15);\n",
              "    filter: drop-shadow(0px 1px 2px rgba(0, 0, 0, 0.3));\n",
              "    fill: #FFFFFF;\n",
              "  }\n",
              "</style>\n",
              "\n",
              "    <script>\n",
              "      async function quickchart(key) {\n",
              "        const containerElement = document.querySelector('#' + key);\n",
              "        const charts = await google.colab.kernel.invokeFunction(\n",
              "            'suggestCharts', [key], {});\n",
              "      }\n",
              "    </script>\n",
              "\n",
              "      <script>\n",
              "\n",
              "function displayQuickchartButton(domScope) {\n",
              "  let quickchartButtonEl =\n",
              "    domScope.querySelector('#df-169dbf1d-d0c2-48c3-ba8a-d26cac77c896 button.colab-df-quickchart');\n",
              "  quickchartButtonEl.style.display =\n",
              "    google.colab.kernel.accessAllowed ? 'block' : 'none';\n",
              "}\n",
              "\n",
              "        displayQuickchartButton(document);\n",
              "      </script>\n",
              "      <style>\n",
              "    .colab-df-container {\n",
              "      display:flex;\n",
              "      flex-wrap:wrap;\n",
              "      gap: 12px;\n",
              "    }\n",
              "\n",
              "    .colab-df-convert {\n",
              "      background-color: #E8F0FE;\n",
              "      border: none;\n",
              "      border-radius: 50%;\n",
              "      cursor: pointer;\n",
              "      display: none;\n",
              "      fill: #1967D2;\n",
              "      height: 32px;\n",
              "      padding: 0 0 0 0;\n",
              "      width: 32px;\n",
              "    }\n",
              "\n",
              "    .colab-df-convert:hover {\n",
              "      background-color: #E2EBFA;\n",
              "      box-shadow: 0px 1px 2px rgba(60, 64, 67, 0.3), 0px 1px 3px 1px rgba(60, 64, 67, 0.15);\n",
              "      fill: #174EA6;\n",
              "    }\n",
              "\n",
              "    [theme=dark] .colab-df-convert {\n",
              "      background-color: #3B4455;\n",
              "      fill: #D2E3FC;\n",
              "    }\n",
              "\n",
              "    [theme=dark] .colab-df-convert:hover {\n",
              "      background-color: #434B5C;\n",
              "      box-shadow: 0px 1px 3px 1px rgba(0, 0, 0, 0.15);\n",
              "      filter: drop-shadow(0px 1px 2px rgba(0, 0, 0, 0.3));\n",
              "      fill: #FFFFFF;\n",
              "    }\n",
              "  </style>\n",
              "\n",
              "      <script>\n",
              "        const buttonEl =\n",
              "          document.querySelector('#df-79aec261-30f2-437e-975e-64e31cecbb5f button.colab-df-convert');\n",
              "        buttonEl.style.display =\n",
              "          google.colab.kernel.accessAllowed ? 'block' : 'none';\n",
              "\n",
              "        async function convertToInteractive(key) {\n",
              "          const element = document.querySelector('#df-79aec261-30f2-437e-975e-64e31cecbb5f');\n",
              "          const dataTable =\n",
              "            await google.colab.kernel.invokeFunction('convertToInteractive',\n",
              "                                                     [key], {});\n",
              "          if (!dataTable) return;\n",
              "\n",
              "          const docLinkHtml = 'Like what you see? Visit the ' +\n",
              "            '<a target=\"_blank\" href=https://colab.research.google.com/notebooks/data_table.ipynb>data table notebook</a>'\n",
              "            + ' to learn more about interactive tables.';\n",
              "          element.innerHTML = '';\n",
              "          dataTable['output_type'] = 'display_data';\n",
              "          await google.colab.output.renderOutput(dataTable, element);\n",
              "          const docLink = document.createElement('div');\n",
              "          docLink.innerHTML = docLinkHtml;\n",
              "          element.appendChild(docLink);\n",
              "        }\n",
              "      </script>\n",
              "    </div>\n",
              "  </div>\n"
            ]
          },
          "metadata": {},
          "execution_count": 5
        }
      ]
    },
    {
      "cell_type": "markdown",
      "source": [
        "#2. 이미지 데이터 경로와 마스크 경로"
      ],
      "metadata": {
        "id": "Zm7oZCk8poUZ"
      }
    },
    {
      "cell_type": "code",
      "source": [
        "inp_dir = '/content/dataset/semantic_drone_dataset/original_images'"
      ],
      "metadata": {
        "id": "4Sa3osZtpu3G"
      },
      "execution_count": null,
      "outputs": []
    },
    {
      "cell_type": "code",
      "source": [
        "mask_dir= '/content/RGB_color_image_masks/RGB_color_image_masks'"
      ],
      "metadata": {
        "id": "J7m4dcbMp2pn"
      },
      "execution_count": null,
      "outputs": []
    },
    {
      "cell_type": "code",
      "source": [
        "import os"
      ],
      "metadata": {
        "id": "WAIhwcKDqXKT"
      },
      "execution_count": null,
      "outputs": []
    },
    {
      "cell_type": "markdown",
      "source": [
        "#3. 이미지 데이터와 마스크 데이터를 텐서로 변환"
      ],
      "metadata": {
        "id": "D-FOtVQnsMet"
      }
    },
    {
      "cell_type": "code",
      "source": [
        "inp_list = os.listdir(inp_dir)\n",
        "mask_list = os.listdir(mask_dir)\n",
        "\n",
        "inp_list.sort()\n",
        "mask_list.sort()\n",
        "\n",
        "inp_img_list = [os.path.join(inp_dir,i) for i in inp_list]\n",
        "mask_list = [os.path.join(mask_dir,i) for i in mask_list]"
      ],
      "metadata": {
        "id": "2BYe8NPqp8Hz"
      },
      "execution_count": null,
      "outputs": []
    },
    {
      "cell_type": "code",
      "source": [
        "inp_img_list[0:5]"
      ],
      "metadata": {
        "colab": {
          "base_uri": "https://localhost:8080/"
        },
        "id": "G8n7aUMGqnai",
        "outputId": "98c853f4-a8ab-41d4-9a29-068943ce05a5"
      },
      "execution_count": null,
      "outputs": [
        {
          "output_type": "execute_result",
          "data": {
            "text/plain": [
              "['/content/dataset/semantic_drone_dataset/original_images/000.jpg',\n",
              " '/content/dataset/semantic_drone_dataset/original_images/001.jpg',\n",
              " '/content/dataset/semantic_drone_dataset/original_images/002.jpg',\n",
              " '/content/dataset/semantic_drone_dataset/original_images/003.jpg',\n",
              " '/content/dataset/semantic_drone_dataset/original_images/004.jpg']"
            ]
          },
          "metadata": {},
          "execution_count": 10
        }
      ]
    },
    {
      "cell_type": "code",
      "source": [
        "mask_list[0:5]"
      ],
      "metadata": {
        "colab": {
          "base_uri": "https://localhost:8080/"
        },
        "id": "G-1KR6XSqoZl",
        "outputId": "549c7c48-97b3-4727-9854-f1bd98007a7c"
      },
      "execution_count": null,
      "outputs": [
        {
          "output_type": "execute_result",
          "data": {
            "text/plain": [
              "['/content/RGB_color_image_masks/RGB_color_image_masks/000.png',\n",
              " '/content/RGB_color_image_masks/RGB_color_image_masks/001.png',\n",
              " '/content/RGB_color_image_masks/RGB_color_image_masks/002.png',\n",
              " '/content/RGB_color_image_masks/RGB_color_image_masks/003.png',\n",
              " '/content/RGB_color_image_masks/RGB_color_image_masks/004.png']"
            ]
          },
          "metadata": {},
          "execution_count": 11
        }
      ]
    },
    {
      "cell_type": "code",
      "source": [
        "# constant 함수를 통해서 이미지 이름 리스트를 상수 텐서로 변환.\n",
        "# 상수 텐서란? 한번 생성되면 그 값을 변경할 수 없는 텐서를 의미\n",
        "image_names = tf.constant(inp_img_list)\n",
        "mask_names = tf.constant(mask_list)"
      ],
      "metadata": {
        "id": "NH4msUv0quU9"
      },
      "execution_count": null,
      "outputs": []
    },
    {
      "cell_type": "code",
      "source": [
        "image_names[0:5]"
      ],
      "metadata": {
        "colab": {
          "base_uri": "https://localhost:8080/"
        },
        "id": "1juF_8haq76m",
        "outputId": "f8bced68-31d6-4100-b797-1be394b6e46a"
      },
      "execution_count": null,
      "outputs": [
        {
          "output_type": "execute_result",
          "data": {
            "text/plain": [
              "<tf.Tensor: shape=(5,), dtype=string, numpy=\n",
              "array([b'/content/dataset/semantic_drone_dataset/original_images/000.jpg',\n",
              "       b'/content/dataset/semantic_drone_dataset/original_images/001.jpg',\n",
              "       b'/content/dataset/semantic_drone_dataset/original_images/002.jpg',\n",
              "       b'/content/dataset/semantic_drone_dataset/original_images/003.jpg',\n",
              "       b'/content/dataset/semantic_drone_dataset/original_images/004.jpg'],\n",
              "      dtype=object)>"
            ]
          },
          "metadata": {},
          "execution_count": 13
        }
      ]
    },
    {
      "cell_type": "markdown",
      "source": [
        "\n",
        "```\n",
        "a = tf.constant([1, 2, 3])\n",
        "\n",
        "b = tf.constant([4, 5, 6])\n",
        "```\n",
        "\n",
        "tf.data.Dataset.from_tensor_slices--> (1,4), (2,5), (3,6)처럼 튜블로 쌍을 이루도록 해준다."
      ],
      "metadata": {
        "id": "IPMduwpQsLHm"
      }
    },
    {
      "cell_type": "code",
      "source": [
        "dataset = tf.data.Dataset.from_tensor_slices((image_names,mask_names))"
      ],
      "metadata": {
        "id": "kIVoIMYbq-rR"
      },
      "execution_count": null,
      "outputs": []
    },
    {
      "cell_type": "code",
      "source": [
        "for image,mask in dataset.take(1):\n",
        "    print(image)\n",
        "    print(mask)"
      ],
      "metadata": {
        "colab": {
          "base_uri": "https://localhost:8080/"
        },
        "id": "lLpacc0avRzq",
        "outputId": "5502fc68-cf4c-42ad-c3f4-f400ae9fdfff"
      },
      "execution_count": null,
      "outputs": [
        {
          "output_type": "stream",
          "name": "stdout",
          "text": [
            "tf.Tensor(b'/content/dataset/semantic_drone_dataset/original_images/000.jpg', shape=(), dtype=string)\n",
            "tf.Tensor(b'/content/RGB_color_image_masks/RGB_color_image_masks/000.png', shape=(), dtype=string)\n"
          ]
        }
      ]
    },
    {
      "cell_type": "code",
      "source": [
        "def process_path(image_, mask_):\n",
        "  #tf.io.read_file---> 텐서플로우를 이용해 파일 입출력을 할 때 사용\n",
        "  img = tf.io.read_file(image_)\n",
        "  #img = tf.image.decode_png----> png 파일을 읽는 방법\n",
        "  img = tf.image.decode_png(img,channels=3)\n",
        "  #픽셀값을 0과 1사이로 정규화 하는 코드\n",
        "  img = tf.image.convert_image_dtype(img,tf.float32)\n",
        "\n",
        "  mask = tf.io.read_file(mask_)\n",
        "  mask = tf.image.decode_png(mask,channels=3)\n",
        "  #mask data가 rgb로 주어질 때 전처리 하는 코드\n",
        "  mask = tf.math.reduce_max(mask,axis=-1,keepdims=True)\n",
        "  return img,mask\n",
        "\n",
        "def process(image, mask):\n",
        "  inp_image = tf.image.resize(image,(96,128),method='nearest')\n",
        "  inp_mask = tf.image.resize(mask,(96,128),method='nearest')\n",
        "\n",
        "  return inp_image, inp_mask\n",
        "\n",
        "#tensorflow에서 map 데이터셋에 변환 함수를 적용하는 코드\n",
        "image_ds = dataset.map(process_path)\n",
        "processed_images_ds = image_ds.map(process)"
      ],
      "metadata": {
        "id": "ZnFpEdY6sE5o"
      },
      "execution_count": null,
      "outputs": []
    },
    {
      "cell_type": "markdown",
      "source": [
        "#4. 모델링 구조"
      ],
      "metadata": {
        "id": "NoOs0JAWv2Fe"
      }
    },
    {
      "cell_type": "markdown",
      "source": [
        "skip connection 이란? 신경망에서 한 계층의 출력을 그보다 더 높은 계층의 입력과 바로 연결하는 구조를 말합니다. resnet에서 처음으로 제안한 이론인데, 해당 논문을 다 읽어보고 개념에 대해 설명하겠습니다."
      ],
      "metadata": {
        "id": "tuxc_brRxAj9"
      }
    },
    {
      "cell_type": "markdown",
      "source": [
        "![image.png](data:image/png;base64,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)"
      ],
      "metadata": {
        "id": "vUn1p_6YdBSt"
      }
    },
    {
      "cell_type": "markdown",
      "source": [
        "보면 수축 부분이 3* 3conv과 2 * 2maxpooling으로 구성되어 있다는 것을 알 수 있습니다.\n",
        "\n",
        "그리고 논문을 보면 dropout에 대한 이야기가 나옵니다.\n",
        "\n",
        "\n",
        "\n",
        "```\n",
        " Drop-out layers at the end of the contracting path perform further implicit\n",
        "data augmentation.\n",
        "```\n",
        "즉 수축 부분에 대한 마지막 열에 dropout이 첨부된다는 것을 알 수 있습니다.\n"
      ],
      "metadata": {
        "id": "ajEn4zBqdCew"
      }
    },
    {
      "cell_type": "code",
      "source": [
        "def conv_block(inputs=None, n_filters=64, dropout_prob=0, max_pooling=True):\n",
        "\n",
        "  conv = Conv2D(n_filters, kernel_size=3,activation='relu', padding='same', kernel_initializer='he_normal')(inputs)\n",
        "  conv = Conv2D(n_filters, kernel_size=3,activation='relu', padding='same', kernel_initializer='he_normal')(conv)\n",
        "\n",
        "  if dropout_prob > 0:\n",
        "    conv = Dropout(dropout_prob)(conv)\n",
        "\n",
        "  if max_pooling:\n",
        "    next_layer = MaxPooling2D(pool_size=(2,2))(conv)\n",
        "\n",
        "  else:\n",
        "    next_layer = conv\n",
        "\n",
        "  skip_connection = conv\n",
        "\n",
        "  return next_layer, skip_connection\n"
      ],
      "metadata": {
        "id": "6mNl7eAsv7Ro"
      },
      "execution_count": null,
      "outputs": []
    },
    {
      "cell_type": "markdown",
      "source": [
        "우선 저가 이 부분을 못해서 구현에 실패했던것 같습니다.\n",
        "\n",
        "여기 레퍼런스를 보면 Conv2DTranspose와 concatenate 함수를 사용합니다."
      ],
      "metadata": {
        "id": "a99uzSqrd4Gr"
      }
    },
    {
      "cell_type": "markdown",
      "source": [
        "![스크린샷 2023-07-25 233516.png](data:image/png;base64,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)"
      ],
      "metadata": {
        "id": "NpGJNKHSefBR"
      }
    },
    {
      "cell_type": "markdown",
      "source": [
        "하지만 여기서 저가 구현한 부분을 보면 concatenate함수와 conv로만 구성되어 있습니다. upsampling 과 같은 구조를 처음 구현해봐서 잘못구현했던것 같습니다.\n",
        "\n",
        "그러니까 정리하자면 일반적인 축소 경로는 cnn + max_pooling으로 구현 가능하지만 확대 경로를 구현하기 위해서는 Conv2DTranspose 함수를 통해 작은 차원의 특징 맵을 원본 크기로 복원해야 합니다. 그리고 concatenate 함수를 통해 축소경로에서 확대경로로 넘어가야 합니다.\n",
        "\n",
        "그리고 위에 아키텍처 그림을 보시면 upsampling을 하고 다시 2번의 conv2d가 존재합니다. 따라서 마지막 부분에 2개의 conv2d를 적용합니다."
      ],
      "metadata": {
        "id": "5rc1qbuIehBH"
      }
    },
    {
      "cell_type": "code",
      "source": [
        "def upsampling_block(expansive_input, contractive_input, n_filters=64):\n",
        "  up = Conv2DTranspose(filters=n_filters, kernel_size=(3,3), strides=(2,2), padding='same')(expansive_input)\n",
        "  merge = concatenate([up, contractive_input], axis=3)\n",
        "  conv = Conv2D(filters=n_filters, kernel_size = (3,3), activation = 'relu',padding='same',\n",
        "                 kernel_initializer='he_normal')(merge)\n",
        "  conv = Conv2D(filters=n_filters, kernel_size = (3,3), activation = 'relu',padding='same',\n",
        "                 kernel_initializer='he_normal')(conv)\n",
        "\n",
        "  return conv"
      ],
      "metadata": {
        "id": "I5vAd3LabTTJ"
      },
      "execution_count": null,
      "outputs": []
    },
    {
      "cell_type": "markdown",
      "source": [
        "또 위에 아키텍처를 보시면 축소 경로 필터가 64에서 배수로 들어납니다. 따라서 이를 n_filter * n으로 구현합니다.\n",
        "\n",
        "그리고 앞에서 언급 했듯 마지막 층에는 max_pooling이 없고, 대신 dropout이 있습니다.\n",
        "\n",
        "축소 경로 필터가 64에서 배수로 줄어듭니다. 따라서 이를 n_filter * n으로 구현합니다.\n",
        "\n",
        "그리고 모델의 마지막 레이어는 1 * 1 로 구성되어 있습니다."
      ],
      "metadata": {
        "id": "LSfPF-oVizCD"
      }
    },
    {
      "cell_type": "code",
      "source": [
        "def unet_model(input_size=(96, 128, 3), n_filters=64, n_classes=256):\n",
        "  inputs = Input(input_size)\n",
        "  cblock1 = conv_block(inputs, n_filters)\n",
        "  cblock2 = conv_block(cblock1[0], n_filters*2)\n",
        "  cblock3 = conv_block(cblock2[0], n_filters*4)\n",
        "  cblock4 = conv_block(cblock3[0], n_filters*8)\n",
        "  cblock5 = conv_block(cblock4[0], n_filters*16, dropout_prob=0.5, max_pooling=False)\n",
        "\n",
        "  ublock6 = upsampling_block(cblock5[0], cblock4[1],  n_filters*8)\n",
        "  ublock7 = upsampling_block(ublock6, cblock3[1],  n_filters*4)\n",
        "  ublock8 = upsampling_block(ublock7, cblock2[1],  n_filters*2)\n",
        "  ublock9 = upsampling_block(ublock8, cblock1[1],  n_filters)\n",
        "\n",
        "  conv10 = Conv2D(n_classes, 1, padding='same')(ublock9)\n",
        "\n",
        "\n",
        "  model = tf.keras.Model(inputs=inputs, outputs=conv10)\n",
        "\n",
        "  return model"
      ],
      "metadata": {
        "id": "QaMPdfuJim42"
      },
      "execution_count": null,
      "outputs": []
    },
    {
      "cell_type": "code",
      "source": [
        "img_height = 96\n",
        "img_width = 128\n",
        "num_channels = 3\n",
        "\n",
        "unet = unet_model((img_height, img_width, num_channels))"
      ],
      "metadata": {
        "id": "iVSpH8lzkNM6"
      },
      "execution_count": null,
      "outputs": []
    },
    {
      "cell_type": "code",
      "source": [
        "unet.summary()"
      ],
      "metadata": {
        "colab": {
          "base_uri": "https://localhost:8080/"
        },
        "id": "bJoTfpiokUnT",
        "outputId": "9fc1a6f8-d021-45aa-8956-9d029380c41a"
      },
      "execution_count": null,
      "outputs": [
        {
          "output_type": "stream",
          "name": "stdout",
          "text": [
            "Model: \"model\"\n",
            "__________________________________________________________________________________________________\n",
            " Layer (type)                   Output Shape         Param #     Connected to                     \n",
            "==================================================================================================\n",
            " input_1 (InputLayer)           [(None, 96, 128, 3)  0           []                               \n",
            "                                ]                                                                 \n",
            "                                                                                                  \n",
            " conv2d (Conv2D)                (None, 96, 128, 64)  1792        ['input_1[0][0]']                \n",
            "                                                                                                  \n",
            " conv2d_1 (Conv2D)              (None, 96, 128, 64)  36928       ['conv2d[0][0]']                 \n",
            "                                                                                                  \n",
            " max_pooling2d (MaxPooling2D)   (None, 48, 64, 64)   0           ['conv2d_1[0][0]']               \n",
            "                                                                                                  \n",
            " conv2d_2 (Conv2D)              (None, 48, 64, 128)  73856       ['max_pooling2d[0][0]']          \n",
            "                                                                                                  \n",
            " conv2d_3 (Conv2D)              (None, 48, 64, 128)  147584      ['conv2d_2[0][0]']               \n",
            "                                                                                                  \n",
            " max_pooling2d_1 (MaxPooling2D)  (None, 24, 32, 128)  0          ['conv2d_3[0][0]']               \n",
            "                                                                                                  \n",
            " conv2d_4 (Conv2D)              (None, 24, 32, 256)  295168      ['max_pooling2d_1[0][0]']        \n",
            "                                                                                                  \n",
            " conv2d_5 (Conv2D)              (None, 24, 32, 256)  590080      ['conv2d_4[0][0]']               \n",
            "                                                                                                  \n",
            " max_pooling2d_2 (MaxPooling2D)  (None, 12, 16, 256)  0          ['conv2d_5[0][0]']               \n",
            "                                                                                                  \n",
            " conv2d_6 (Conv2D)              (None, 12, 16, 512)  1180160     ['max_pooling2d_2[0][0]']        \n",
            "                                                                                                  \n",
            " conv2d_7 (Conv2D)              (None, 12, 16, 512)  2359808     ['conv2d_6[0][0]']               \n",
            "                                                                                                  \n",
            " max_pooling2d_3 (MaxPooling2D)  (None, 6, 8, 512)   0           ['conv2d_7[0][0]']               \n",
            "                                                                                                  \n",
            " conv2d_8 (Conv2D)              (None, 6, 8, 1024)   4719616     ['max_pooling2d_3[0][0]']        \n",
            "                                                                                                  \n",
            " conv2d_9 (Conv2D)              (None, 6, 8, 1024)   9438208     ['conv2d_8[0][0]']               \n",
            "                                                                                                  \n",
            " dropout (Dropout)              (None, 6, 8, 1024)   0           ['conv2d_9[0][0]']               \n",
            "                                                                                                  \n",
            " conv2d_transpose (Conv2DTransp  (None, 12, 16, 512)  4719104    ['dropout[0][0]']                \n",
            " ose)                                                                                             \n",
            "                                                                                                  \n",
            " concatenate (Concatenate)      (None, 12, 16, 1024  0           ['conv2d_transpose[0][0]',       \n",
            "                                )                                 'conv2d_7[0][0]']               \n",
            "                                                                                                  \n",
            " conv2d_10 (Conv2D)             (None, 12, 16, 512)  4719104     ['concatenate[0][0]']            \n",
            "                                                                                                  \n",
            " conv2d_11 (Conv2D)             (None, 12, 16, 512)  2359808     ['conv2d_10[0][0]']              \n",
            "                                                                                                  \n",
            " conv2d_transpose_1 (Conv2DTran  (None, 24, 32, 256)  1179904    ['conv2d_11[0][0]']              \n",
            " spose)                                                                                           \n",
            "                                                                                                  \n",
            " concatenate_1 (Concatenate)    (None, 24, 32, 512)  0           ['conv2d_transpose_1[0][0]',     \n",
            "                                                                  'conv2d_5[0][0]']               \n",
            "                                                                                                  \n",
            " conv2d_12 (Conv2D)             (None, 24, 32, 256)  1179904     ['concatenate_1[0][0]']          \n",
            "                                                                                                  \n",
            " conv2d_13 (Conv2D)             (None, 24, 32, 256)  590080      ['conv2d_12[0][0]']              \n",
            "                                                                                                  \n",
            " conv2d_transpose_2 (Conv2DTran  (None, 48, 64, 128)  295040     ['conv2d_13[0][0]']              \n",
            " spose)                                                                                           \n",
            "                                                                                                  \n",
            " concatenate_2 (Concatenate)    (None, 48, 64, 256)  0           ['conv2d_transpose_2[0][0]',     \n",
            "                                                                  'conv2d_3[0][0]']               \n",
            "                                                                                                  \n",
            " conv2d_14 (Conv2D)             (None, 48, 64, 128)  295040      ['concatenate_2[0][0]']          \n",
            "                                                                                                  \n",
            " conv2d_15 (Conv2D)             (None, 48, 64, 128)  147584      ['conv2d_14[0][0]']              \n",
            "                                                                                                  \n",
            " conv2d_transpose_3 (Conv2DTran  (None, 96, 128, 64)  73792      ['conv2d_15[0][0]']              \n",
            " spose)                                                                                           \n",
            "                                                                                                  \n",
            " concatenate_3 (Concatenate)    (None, 96, 128, 128  0           ['conv2d_transpose_3[0][0]',     \n",
            "                                )                                 'conv2d_1[0][0]']               \n",
            "                                                                                                  \n",
            " conv2d_16 (Conv2D)             (None, 96, 128, 64)  73792       ['concatenate_3[0][0]']          \n",
            "                                                                                                  \n",
            " conv2d_17 (Conv2D)             (None, 96, 128, 64)  36928       ['conv2d_16[0][0]']              \n",
            "                                                                                                  \n",
            " conv2d_18 (Conv2D)             (None, 96, 128, 256  16640       ['conv2d_17[0][0]']              \n",
            "                                )                                                                 \n",
            "                                                                                                  \n",
            "==================================================================================================\n",
            "Total params: 34,529,920\n",
            "Trainable params: 34,529,920\n",
            "Non-trainable params: 0\n",
            "__________________________________________________________________________________________________\n"
          ]
        }
      ]
    },
    {
      "cell_type": "markdown",
      "source": [
        "논문에 따르면 옵티마이저로 sgd를 사용합니다.\n",
        "\n",
        "\n",
        "\n",
        "```\n",
        "The input images and their corresponding segmentation maps are used to train\n",
        "the network with the stochastic gradient descent implementation of Caffe\n",
        "```\n",
        "\n"
      ],
      "metadata": {
        "id": "wDFK6LhOkaX-"
      }
    },
    {
      "cell_type": "code",
      "source": [
        "unet.compile(optimizer='sgd',\n",
        "              loss=tf.keras.losses.SparseCategoricalCrossentropy(from_logits=True),\n",
        "              metrics=['accuracy'])"
      ],
      "metadata": {
        "id": "weXgCd2TkWsw"
      },
      "execution_count": null,
      "outputs": []
    },
    {
      "cell_type": "code",
      "source": [
        "processed_images_ds"
      ],
      "metadata": {
        "colab": {
          "base_uri": "https://localhost:8080/"
        },
        "id": "E2b1SQm7kYf7",
        "outputId": "a9c6c81b-ac88-4c88-8f5a-3031c2d417ba"
      },
      "execution_count": null,
      "outputs": [
        {
          "output_type": "execute_result",
          "data": {
            "text/plain": [
              "<_MapDataset element_spec=(TensorSpec(shape=(96, 128, 3), dtype=tf.float32, name=None), TensorSpec(shape=(96, 128, 1), dtype=tf.uint8, name=None))>"
            ]
          },
          "metadata": {},
          "execution_count": 23
        }
      ]
    },
    {
      "cell_type": "code",
      "source": [
        "EPOCHS = 10\n",
        "VAL_SUBSPLITS = 5\n",
        "BUFFER_SIZE = 500\n",
        "\n",
        "BATCH_SIZE = 64\n",
        "\n",
        "processed_images_ds.batch(BATCH_SIZE)\n",
        "train_dataset = processed_images_ds.cache().shuffle(BUFFER_SIZE).batch(BATCH_SIZE)\n",
        "print(processed_images_ds.element_spec)"
      ],
      "metadata": {
        "colab": {
          "base_uri": "https://localhost:8080/"
        },
        "id": "58p-lGNuklNG",
        "outputId": "325b7678-c727-48c3-ba81-ac6bf389b688"
      },
      "execution_count": null,
      "outputs": [
        {
          "output_type": "stream",
          "name": "stdout",
          "text": [
            "(TensorSpec(shape=(96, 128, 3), dtype=tf.float32, name=None), TensorSpec(shape=(96, 128, 1), dtype=tf.uint8, name=None))\n"
          ]
        }
      ]
    },
    {
      "cell_type": "code",
      "source": [
        "model_history = unet.fit(train_dataset,\n",
        "                         epochs=EPOCHS)"
      ],
      "metadata": {
        "colab": {
          "base_uri": "https://localhost:8080/"
        },
        "id": "xj6Q0BK4km4y",
        "outputId": "7b0afbb4-032d-45c9-d60a-581fff2a5eb4"
      },
      "execution_count": null,
      "outputs": [
        {
          "output_type": "stream",
          "name": "stdout",
          "text": [
            "Epoch 1/10\n",
            "7/7 [==============================] - 217s 535ms/step - loss: 5.3420 - accuracy: 0.0675\n",
            "Epoch 2/10\n",
            "7/7 [==============================] - 2s 215ms/step - loss: 4.0794 - accuracy: 0.3761\n",
            "Epoch 3/10\n",
            "7/7 [==============================] - 2s 216ms/step - loss: 3.3304 - accuracy: 0.3761\n",
            "Epoch 4/10\n",
            "7/7 [==============================] - 2s 215ms/step - loss: 2.9619 - accuracy: 0.3442\n",
            "Epoch 5/10\n",
            "7/7 [==============================] - 2s 214ms/step - loss: 2.8364 - accuracy: 0.3066\n",
            "Epoch 6/10\n",
            "7/7 [==============================] - 2s 215ms/step - loss: 2.6730 - accuracy: 0.3162\n",
            "Epoch 7/10\n",
            "7/7 [==============================] - 2s 215ms/step - loss: 2.5285 - accuracy: 0.3607\n",
            "Epoch 8/10\n",
            "7/7 [==============================] - 2s 215ms/step - loss: 2.5451 - accuracy: 0.3369\n",
            "Epoch 9/10\n",
            "7/7 [==============================] - 2s 215ms/step - loss: 2.4947 - accuracy: 0.3179\n",
            "Epoch 10/10\n",
            "7/7 [==============================] - 2s 215ms/step - loss: 2.5431 - accuracy: 0.3147\n"
          ]
        }
      ]
    }
  ]
}